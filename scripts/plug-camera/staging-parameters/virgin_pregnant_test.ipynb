{
 "cells": [
  {
   "cell_type": "code",
   "execution_count": 1,
   "metadata": {},
   "outputs": [],
   "source": [
    "import pandas as pd \n",
    "import numpy as np\n",
    "import matplotlib as plt\n",
    "import matplotlib.pyplot as plt\n",
    "import seaborn as sns\n",
    "import os\n",
    "from scipy.stats import chi2_contingency"
   ]
  },
  {
   "cell_type": "code",
   "execution_count": 31,
   "metadata": {},
   "outputs": [
    {
     "data": {
      "text/html": [
       "<div>\n",
       "<style scoped>\n",
       "    .dataframe tbody tr th:only-of-type {\n",
       "        vertical-align: middle;\n",
       "    }\n",
       "\n",
       "    .dataframe tbody tr th {\n",
       "        vertical-align: top;\n",
       "    }\n",
       "\n",
       "    .dataframe thead th {\n",
       "        text-align: right;\n",
       "    }\n",
       "</style>\n",
       "<table border=\"1\" class=\"dataframe\">\n",
       "  <thead>\n",
       "    <tr style=\"text-align: right;\">\n",
       "      <th></th>\n",
       "      <th>Vile Identity</th>\n",
       "      <th>Day of Week</th>\n",
       "      <th>AM/PM</th>\n",
       "      <th>Number of pregnant flies</th>\n",
       "      <th>Number of Virgins</th>\n",
       "      <th>Pupae?</th>\n",
       "      <th>Number of Pupae</th>\n",
       "      <th>Condition</th>\n",
       "    </tr>\n",
       "  </thead>\n",
       "  <tbody>\n",
       "    <tr>\n",
       "      <th>0</th>\n",
       "      <td>27/02 9.10am</td>\n",
       "      <td>Tuesday</td>\n",
       "      <td>AM</td>\n",
       "      <td>NaN</td>\n",
       "      <td>1.0</td>\n",
       "      <td>Y</td>\n",
       "      <td>31.0</td>\n",
       "      <td>Virgin</td>\n",
       "    </tr>\n",
       "    <tr>\n",
       "      <th>1</th>\n",
       "      <td>27/02 9.10am</td>\n",
       "      <td>Tuesday</td>\n",
       "      <td>AM</td>\n",
       "      <td>NaN</td>\n",
       "      <td>1.0</td>\n",
       "      <td>Y</td>\n",
       "      <td>28.0</td>\n",
       "      <td>Virgin</td>\n",
       "    </tr>\n",
       "    <tr>\n",
       "      <th>2</th>\n",
       "      <td>27/02 9.10am</td>\n",
       "      <td>Tuesday</td>\n",
       "      <td>AM</td>\n",
       "      <td>NaN</td>\n",
       "      <td>1.0</td>\n",
       "      <td>Y</td>\n",
       "      <td>47.0</td>\n",
       "      <td>Virgin</td>\n",
       "    </tr>\n",
       "    <tr>\n",
       "      <th>3</th>\n",
       "      <td>27/02 9.10am</td>\n",
       "      <td>Tuesday</td>\n",
       "      <td>AM</td>\n",
       "      <td>NaN</td>\n",
       "      <td>1.0</td>\n",
       "      <td>Y</td>\n",
       "      <td>46.0</td>\n",
       "      <td>Virgin</td>\n",
       "    </tr>\n",
       "    <tr>\n",
       "      <th>4</th>\n",
       "      <td>27/02 9.10am</td>\n",
       "      <td>Tuesday</td>\n",
       "      <td>AM</td>\n",
       "      <td>NaN</td>\n",
       "      <td>1.0</td>\n",
       "      <td>Y</td>\n",
       "      <td>56.0</td>\n",
       "      <td>Virgin</td>\n",
       "    </tr>\n",
       "    <tr>\n",
       "      <th>...</th>\n",
       "      <td>...</td>\n",
       "      <td>...</td>\n",
       "      <td>...</td>\n",
       "      <td>...</td>\n",
       "      <td>...</td>\n",
       "      <td>...</td>\n",
       "      <td>...</td>\n",
       "      <td>...</td>\n",
       "    </tr>\n",
       "    <tr>\n",
       "      <th>840</th>\n",
       "      <td>12/03 9am</td>\n",
       "      <td>Tuesday</td>\n",
       "      <td>AM</td>\n",
       "      <td>NaN</td>\n",
       "      <td>1.0</td>\n",
       "      <td>N</td>\n",
       "      <td>NaN</td>\n",
       "      <td>Virgin</td>\n",
       "    </tr>\n",
       "    <tr>\n",
       "      <th>841</th>\n",
       "      <td>12/03 9am</td>\n",
       "      <td>Tuesday</td>\n",
       "      <td>AM</td>\n",
       "      <td>NaN</td>\n",
       "      <td>1.0</td>\n",
       "      <td>N</td>\n",
       "      <td>NaN</td>\n",
       "      <td>Virgin</td>\n",
       "    </tr>\n",
       "    <tr>\n",
       "      <th>842</th>\n",
       "      <td>12/03 9am</td>\n",
       "      <td>Tuesday</td>\n",
       "      <td>AM</td>\n",
       "      <td>NaN</td>\n",
       "      <td>1.0</td>\n",
       "      <td>N</td>\n",
       "      <td>NaN</td>\n",
       "      <td>Virgin</td>\n",
       "    </tr>\n",
       "    <tr>\n",
       "      <th>843</th>\n",
       "      <td>12/03 9am</td>\n",
       "      <td>Tuesday</td>\n",
       "      <td>AM</td>\n",
       "      <td>NaN</td>\n",
       "      <td>1.0</td>\n",
       "      <td>N</td>\n",
       "      <td>NaN</td>\n",
       "      <td>Virgin</td>\n",
       "    </tr>\n",
       "    <tr>\n",
       "      <th>844</th>\n",
       "      <td>12/03 9am</td>\n",
       "      <td>Tuesday</td>\n",
       "      <td>AM</td>\n",
       "      <td>NaN</td>\n",
       "      <td>1.0</td>\n",
       "      <td>N</td>\n",
       "      <td>NaN</td>\n",
       "      <td>Virgin</td>\n",
       "    </tr>\n",
       "  </tbody>\n",
       "</table>\n",
       "<p>845 rows × 8 columns</p>\n",
       "</div>"
      ],
      "text/plain": [
       "    Vile Identity Day of Week AM/PM  Number of pregnant flies  \\\n",
       "0    27/02 9.10am     Tuesday    AM                       NaN   \n",
       "1    27/02 9.10am     Tuesday    AM                       NaN   \n",
       "2    27/02 9.10am     Tuesday    AM                       NaN   \n",
       "3    27/02 9.10am     Tuesday    AM                       NaN   \n",
       "4    27/02 9.10am     Tuesday    AM                       NaN   \n",
       "..            ...         ...   ...                       ...   \n",
       "840     12/03 9am    Tuesday     AM                       NaN   \n",
       "841     12/03 9am    Tuesday     AM                       NaN   \n",
       "842     12/03 9am    Tuesday     AM                       NaN   \n",
       "843     12/03 9am    Tuesday     AM                       NaN   \n",
       "844     12/03 9am    Tuesday     AM                       NaN   \n",
       "\n",
       "     Number of Virgins Pupae?  Number of Pupae Condition  \n",
       "0                  1.0      Y             31.0    Virgin  \n",
       "1                  1.0      Y             28.0    Virgin  \n",
       "2                  1.0      Y             47.0    Virgin  \n",
       "3                  1.0      Y             46.0    Virgin  \n",
       "4                  1.0      Y             56.0    Virgin  \n",
       "..                 ...    ...              ...       ...  \n",
       "840                1.0      N              NaN    Virgin  \n",
       "841                1.0      N              NaN    Virgin  \n",
       "842                1.0      N              NaN    Virgin  \n",
       "843                1.0      N              NaN    Virgin  \n",
       "844                1.0      N              NaN    Virgin  \n",
       "\n",
       "[845 rows x 8 columns]"
      ]
     },
     "execution_count": 31,
     "metadata": {},
     "output_type": "execute_result"
    }
   ],
   "source": [
    "df = pd.read_excel('/Volumes/lab-windingm/home/users/cochral/plug_camera/staging/virgins?/virgincollection.xlsx', 'virgin')\n",
    "\n",
    "df"
   ]
  },
  {
   "cell_type": "code",
   "execution_count": 3,
   "metadata": {},
   "outputs": [],
   "source": [
    "\n",
    "\n",
    "# To apply a function to each row and create a new column based on row data\n",
    "df['Condition'] = df.apply(lambda row: 'Non-Virgin' if row['Number of pregnant flies'] > 0 else 'Virgin', axis=1)\n",
    "                           \n"
   ]
  },
  {
   "cell_type": "code",
   "execution_count": 4,
   "metadata": {},
   "outputs": [
    {
     "data": {
      "text/html": [
       "<div>\n",
       "<style scoped>\n",
       "    .dataframe tbody tr th:only-of-type {\n",
       "        vertical-align: middle;\n",
       "    }\n",
       "\n",
       "    .dataframe tbody tr th {\n",
       "        vertical-align: top;\n",
       "    }\n",
       "\n",
       "    .dataframe thead th {\n",
       "        text-align: right;\n",
       "    }\n",
       "</style>\n",
       "<table border=\"1\" class=\"dataframe\">\n",
       "  <thead>\n",
       "    <tr style=\"text-align: right;\">\n",
       "      <th>Pupae?</th>\n",
       "      <th>N</th>\n",
       "      <th>Y</th>\n",
       "    </tr>\n",
       "    <tr>\n",
       "      <th>Condition</th>\n",
       "      <th></th>\n",
       "      <th></th>\n",
       "    </tr>\n",
       "  </thead>\n",
       "  <tbody>\n",
       "    <tr>\n",
       "      <th>Non-Virgin</th>\n",
       "      <td>0</td>\n",
       "      <td>144</td>\n",
       "    </tr>\n",
       "    <tr>\n",
       "      <th>Virgin</th>\n",
       "      <td>689</td>\n",
       "      <td>12</td>\n",
       "    </tr>\n",
       "  </tbody>\n",
       "</table>\n",
       "</div>"
      ],
      "text/plain": [
       "Pupae?        N    Y\n",
       "Condition           \n",
       "Non-Virgin    0  144\n",
       "Virgin      689   12"
      ]
     },
     "execution_count": 4,
     "metadata": {},
     "output_type": "execute_result"
    }
   ],
   "source": [
    "\n",
    "\n",
    "# create contingency table\n",
    "contingency_table = pd.crosstab(df['Condition'], df['Pupae?'])\n",
    "\n",
    "contingency_table"
   ]
  },
  {
   "cell_type": "code",
   "execution_count": 5,
   "metadata": {},
   "outputs": [
    {
     "data": {
      "text/plain": [
       "2.5137330108111475e-167"
      ]
     },
     "execution_count": 5,
     "metadata": {},
     "output_type": "execute_result"
    }
   ],
   "source": [
    "chi2, pval, dof, expected = chi2_contingency(contingency_table)\n",
    "\n",
    "pval"
   ]
  },
  {
   "cell_type": "code",
   "execution_count": 6,
   "metadata": {},
   "outputs": [
    {
     "data": {
      "text/html": [
       "<div>\n",
       "<style scoped>\n",
       "    .dataframe tbody tr th:only-of-type {\n",
       "        vertical-align: middle;\n",
       "    }\n",
       "\n",
       "    .dataframe tbody tr th {\n",
       "        vertical-align: top;\n",
       "    }\n",
       "\n",
       "    .dataframe thead th {\n",
       "        text-align: right;\n",
       "    }\n",
       "</style>\n",
       "<table border=\"1\" class=\"dataframe\">\n",
       "  <thead>\n",
       "    <tr style=\"text-align: right;\">\n",
       "      <th></th>\n",
       "      <th>Condition</th>\n",
       "      <th>Pupae?</th>\n",
       "      <th>value</th>\n",
       "    </tr>\n",
       "  </thead>\n",
       "  <tbody>\n",
       "    <tr>\n",
       "      <th>0</th>\n",
       "      <td>Non-Virgin</td>\n",
       "      <td>N</td>\n",
       "      <td>0</td>\n",
       "    </tr>\n",
       "    <tr>\n",
       "      <th>1</th>\n",
       "      <td>Virgin</td>\n",
       "      <td>N</td>\n",
       "      <td>689</td>\n",
       "    </tr>\n",
       "    <tr>\n",
       "      <th>2</th>\n",
       "      <td>Non-Virgin</td>\n",
       "      <td>Y</td>\n",
       "      <td>144</td>\n",
       "    </tr>\n",
       "    <tr>\n",
       "      <th>3</th>\n",
       "      <td>Virgin</td>\n",
       "      <td>Y</td>\n",
       "      <td>12</td>\n",
       "    </tr>\n",
       "  </tbody>\n",
       "</table>\n",
       "</div>"
      ],
      "text/plain": [
       "    Condition Pupae?  value\n",
       "0  Non-Virgin      N      0\n",
       "1      Virgin      N    689\n",
       "2  Non-Virgin      Y    144\n",
       "3      Virgin      Y     12"
      ]
     },
     "execution_count": 6,
     "metadata": {},
     "output_type": "execute_result"
    }
   ],
   "source": [
    "# need it in long format for seaborn \n",
    "\n",
    "contingency_table.reset_index().melt(id_vars='Condition')"
   ]
  },
  {
   "cell_type": "code",
   "execution_count": 7,
   "metadata": {},
   "outputs": [
    {
     "data": {
      "image/png": "[encoded data removed]",
      "text/plain": [
       "<Figure size 640x480 with 1 Axes>"
      ]
     },
     "metadata": {},
     "output_type": "display_data"
    }
   ],
   "source": [
    "# converting the contingency table into 'long' format using melt, which is necessary for seaborn's barplot function\n",
    "\n",
    "sns.barplot(data=contingency_table.reset_index().melt(id_vars='Condition'), x='Condition', y='value', hue='Pupae?', palette='Greens_d')\n",
    "plt.title('Pupae Presence by Fly Condition')\n",
    "plt.xlabel('Condition')\n",
    "plt.ylabel('Count of Pupae?')\n",
    "plt.show()"
   ]
  },
  {
   "cell_type": "code",
   "execution_count": 8,
   "metadata": {},
   "outputs": [
    {
     "data": {
      "image/png": "[encoded data removed]",
      "text/plain": [
       "<Figure size 600x500 with 1 Axes>"
      ]
     },
     "metadata": {},
     "output_type": "display_data"
    }
   ],
   "source": [
    "# In this script, we're using sns.histplot which is a high-level seaborn function for histogram plots \n",
    "# and can stack bars if given categorical data. \n",
    "# The parameter multiple='stack' tells seaborn to stack the bars rather than showing them side by side\n",
    "\n",
    "df['Condition'] = df.apply(lambda row: 'Non-Virgin' if row['Number of pregnant flies'] > 0 else 'Virgin', axis=1)\n",
    "\n",
    "plt.figure(figsize=(6, 5))\n",
    "# Set the aesthetic style of the plots\n",
    "sns.set_style(\"whitegrid\")\n",
    "\n",
    "# Create the stacked bar chart\n",
    "\n",
    "sns.histplot(data=df, x='Condition', hue='Pupae?', multiple='stack', shrink=.8, edgecolor='black', palette='Greens', alpha=1)\n",
    "\n",
    "# Add the title and labels\n",
    "plt.title('Pupae Presence by Fly Condition', fontsize=16, fontweight='bold')\n",
    "plt.xlabel('Condition', fontsize=14, fontweight='bold')\n",
    "plt.ylabel('Pupa Count', fontsize=14, fontweight='bold')\n",
    "\n",
    "# Remove the top and right spines for a cleaner look\n",
    "sns.despine()\n",
    "\n",
    "# Show the plot\n",
    "plt.tight_layout()\n",
    "\n",
    "plt.savefig('/Users/cochral/repos/behavioural-analysis/plots/plug-camera/staging/Pupa_virgin_pregnant.png', dpi=300, bbox_inches='tight')\n",
    "plt.show()\n",
    "\n",
    "\n"
   ]
  },
  {
   "cell_type": "code",
   "execution_count": 9,
   "metadata": {},
   "outputs": [],
   "source": [
    "total_virgin = len(df[df['Condition'] == 'Virgin'])\n",
    "\n",
    "virgin_pupa = len(df[(df['Condition'] == 'Virgin') & (df['Pupae?'] == 'Y')])\n",
    "\n",
    "total_nonvirgin = len(df[df['Condition'] == 'Non-Virgin'])\n",
    "\n",
    "nonvirgin_pupa = len(df[(df['Condition'] == 'Non-Virgin') & (df['Pupae?'] == 'Y')])\n",
    "\n",
    "ratio_virgin = virgin_pupa / total_virgin\n",
    "\n",
    "ratio_nonvirgin = nonvirgin_pupa / total_nonvirgin\n"
   ]
  },
  {
   "cell_type": "code",
   "execution_count": 10,
   "metadata": {},
   "outputs": [
    {
     "ename": "NameError",
     "evalue": "name 'data_for_plotting' is not defined",
     "output_type": "error",
     "traceback": [
      "\u001b[0;31m---------------------------------------------------------------------------\u001b[0m",
      "\u001b[0;31mNameError\u001b[0m                                 Traceback (most recent call last)",
      "Cell \u001b[0;32mIn[10], line 1\u001b[0m\n\u001b[0;32m----> 1\u001b[0m data_for_plotting \u001b[38;5;241m=\u001b[39m \u001b[43mdata_for_plotting\u001b[49m\u001b[38;5;241m.\u001b[39msort_values(by\u001b[38;5;241m=\u001b[39m\u001b[38;5;124m'\u001b[39m\u001b[38;5;124mPupae?\u001b[39m\u001b[38;5;124m'\u001b[39m)\n\u001b[1;32m      3\u001b[0m sns\u001b[38;5;241m.\u001b[39mhistplot(data\u001b[38;5;241m=\u001b[39mdata_for_plotting, x\u001b[38;5;241m=\u001b[39m\u001b[38;5;124m'\u001b[39m\u001b[38;5;124mCondition\u001b[39m\u001b[38;5;124m'\u001b[39m, hue\u001b[38;5;241m=\u001b[39m\u001b[38;5;124m'\u001b[39m\u001b[38;5;124mPupae?\u001b[39m\u001b[38;5;124m'\u001b[39m, multiple\u001b[38;5;241m=\u001b[39m\u001b[38;5;124m'\u001b[39m\u001b[38;5;124mstack\u001b[39m\u001b[38;5;124m'\u001b[39m, shrink\u001b[38;5;241m=\u001b[39m\u001b[38;5;241m.8\u001b[39m, edgecolor\u001b[38;5;241m=\u001b[39m\u001b[38;5;124m'\u001b[39m\u001b[38;5;124mblack\u001b[39m\u001b[38;5;124m'\u001b[39m, palette\u001b[38;5;241m=\u001b[39m\u001b[38;5;124m'\u001b[39m\u001b[38;5;124mGreens\u001b[39m\u001b[38;5;124m'\u001b[39m, alpha\u001b[38;5;241m=\u001b[39m\u001b[38;5;241m1\u001b[39m)\n\u001b[1;32m      4\u001b[0m plt\u001b[38;5;241m.\u001b[39mtitle(\u001b[38;5;124m'\u001b[39m\u001b[38;5;124mPupae Presence by Fly Condition\u001b[39m\u001b[38;5;124m'\u001b[39m, fontsize\u001b[38;5;241m=\u001b[39m\u001b[38;5;241m16\u001b[39m, fontweight\u001b[38;5;241m=\u001b[39m\u001b[38;5;124m'\u001b[39m\u001b[38;5;124mbold\u001b[39m\u001b[38;5;124m'\u001b[39m)\n",
      "\u001b[0;31mNameError\u001b[0m: name 'data_for_plotting' is not defined"
     ]
    }
   ],
   "source": [
    "data_for_plotting = data_for_plotting.sort_values(by='Pupae?')\n",
    "\n",
    "sns.histplot(data=data_for_plotting, x='Condition', hue='Pupae?', multiple='stack', shrink=.8, edgecolor='black', palette='Greens', alpha=1)\n",
    "plt.title('Pupae Presence by Fly Condition', fontsize=16, fontweight='bold')\n",
    "plt.xlabel('Condition', fontsize=14, fontweight='bold')\n",
    "plt.ylabel('Proportion', fontsize=14, fontweight='bold')\n",
    "\n",
    "plt.legend(title='Pupae?', loc='upper right')\n",
    "\n",
    "sns.despine()\n",
    "plt.tight_layout()\n",
    "\n",
    "\n",
    "plt.show()"
   ]
  },
  {
   "cell_type": "code",
   "execution_count": 13,
   "metadata": {},
   "outputs": [
    {
     "ename": "NameError",
     "evalue": "name 'data_for_plotting' is not defined",
     "output_type": "error",
     "traceback": [
      "\u001b[0;31m---------------------------------------------------------------------------\u001b[0m",
      "\u001b[0;31mNameError\u001b[0m                                 Traceback (most recent call last)",
      "Cell \u001b[0;32mIn[13], line 1\u001b[0m\n\u001b[0;32m----> 1\u001b[0m \u001b[43mdata_for_plotting\u001b[49m\n",
      "\u001b[0;31mNameError\u001b[0m: name 'data_for_plotting' is not defined"
     ]
    }
   ],
   "source": [
    "data_for_plotting"
   ]
  },
  {
   "cell_type": "code",
   "execution_count": 14,
   "metadata": {},
   "outputs": [
    {
     "ename": "NameError",
     "evalue": "name 'data_for_plotting' is not defined",
     "output_type": "error",
     "traceback": [
      "\u001b[0;31m---------------------------------------------------------------------------\u001b[0m",
      "\u001b[0;31mNameError\u001b[0m                                 Traceback (most recent call last)",
      "Cell \u001b[0;32mIn[14], line 1\u001b[0m\n\u001b[0;32m----> 1\u001b[0m data_for_plotting \u001b[38;5;241m=\u001b[39m \u001b[43mdata_for_plotting\u001b[49m\u001b[38;5;241m.\u001b[39msort_values(by\u001b[38;5;241m=\u001b[39m[\u001b[38;5;124m'\u001b[39m\u001b[38;5;124mCondition\u001b[39m\u001b[38;5;124m'\u001b[39m], ascending\u001b[38;5;241m=\u001b[39m[\u001b[38;5;28;01mFalse\u001b[39;00m])\n\u001b[1;32m      3\u001b[0m data_for_plotting\n",
      "\u001b[0;31mNameError\u001b[0m: name 'data_for_plotting' is not defined"
     ]
    }
   ],
   "source": [
    "data_for_plotting = data_for_plotting.sort_values(by=['Condition'], ascending=[False])\n",
    "\n",
    "data_for_plotting"
   ]
  },
  {
   "cell_type": "code",
   "execution_count": 15,
   "metadata": {},
   "outputs": [
    {
     "ename": "NameError",
     "evalue": "name 'data_for_plotting' is not defined",
     "output_type": "error",
     "traceback": [
      "\u001b[0;31m---------------------------------------------------------------------------\u001b[0m",
      "\u001b[0;31mNameError\u001b[0m                                 Traceback (most recent call last)",
      "Cell \u001b[0;32mIn[15], line 1\u001b[0m\n\u001b[0;32m----> 1\u001b[0m \u001b[43mdata_for_plotting\u001b[49m[\u001b[38;5;124m'\u001b[39m\u001b[38;5;124mPupae?\u001b[39m\u001b[38;5;124m'\u001b[39m]\u001b[38;5;241m.\u001b[39mdtypes\n",
      "\u001b[0;31mNameError\u001b[0m: name 'data_for_plotting' is not defined"
     ]
    }
   ],
   "source": [
    "data_for_plotting['Pupae?'].dtypes"
   ]
  },
  {
   "cell_type": "code",
   "execution_count": 16,
   "metadata": {},
   "outputs": [
    {
     "ename": "NameError",
     "evalue": "name 'data_for_plotting' is not defined",
     "output_type": "error",
     "traceback": [
      "\u001b[0;31m---------------------------------------------------------------------------\u001b[0m",
      "\u001b[0;31mNameError\u001b[0m                                 Traceback (most recent call last)",
      "Cell \u001b[0;32mIn[16], line 2\u001b[0m\n\u001b[1;32m      1\u001b[0m plt\u001b[38;5;241m.\u001b[39mfigure(figsize\u001b[38;5;241m=\u001b[39m(\u001b[38;5;241m7\u001b[39m, \u001b[38;5;241m5\u001b[39m))\n\u001b[0;32m----> 2\u001b[0m sns\u001b[38;5;241m.\u001b[39mhistplot(data\u001b[38;5;241m=\u001b[39m\u001b[43mdata_for_plotting\u001b[49m, x\u001b[38;5;241m=\u001b[39m\u001b[38;5;124m'\u001b[39m\u001b[38;5;124mCondition\u001b[39m\u001b[38;5;124m'\u001b[39m, hue\u001b[38;5;241m=\u001b[39m\u001b[38;5;124m'\u001b[39m\u001b[38;5;124mPupae?\u001b[39m\u001b[38;5;124m'\u001b[39m, weights\u001b[38;5;241m=\u001b[39m\u001b[38;5;124m'\u001b[39m\u001b[38;5;124mProportion\u001b[39m\u001b[38;5;124m'\u001b[39m, multiple\u001b[38;5;241m=\u001b[39m\u001b[38;5;124m'\u001b[39m\u001b[38;5;124mstack\u001b[39m\u001b[38;5;124m'\u001b[39m, shrink\u001b[38;5;241m=\u001b[39m\u001b[38;5;241m.8\u001b[39m, edgecolor\u001b[38;5;241m=\u001b[39m\u001b[38;5;124m'\u001b[39m\u001b[38;5;124mblack\u001b[39m\u001b[38;5;124m'\u001b[39m, linewidth\u001b[38;5;241m=\u001b[39m\u001b[38;5;241m1.5\u001b[39m, palette\u001b[38;5;241m=\u001b[39m\u001b[38;5;124m'\u001b[39m\u001b[38;5;124mOranges\u001b[39m\u001b[38;5;124m'\u001b[39m, alpha\u001b[38;5;241m=\u001b[39m\u001b[38;5;241m1\u001b[39m)\n\u001b[1;32m      3\u001b[0m plt\u001b[38;5;241m.\u001b[39mtitle(\u001b[38;5;124m'\u001b[39m\u001b[38;5;124mPupae Presence by Fly Condition\u001b[39m\u001b[38;5;124m'\u001b[39m, fontsize\u001b[38;5;241m=\u001b[39m\u001b[38;5;241m16\u001b[39m, fontweight\u001b[38;5;241m=\u001b[39m\u001b[38;5;124m'\u001b[39m\u001b[38;5;124mbold\u001b[39m\u001b[38;5;124m'\u001b[39m)\n\u001b[1;32m      4\u001b[0m plt\u001b[38;5;241m.\u001b[39mxlabel(\u001b[38;5;124m'\u001b[39m\u001b[38;5;124mCondition\u001b[39m\u001b[38;5;124m'\u001b[39m, fontsize\u001b[38;5;241m=\u001b[39m\u001b[38;5;241m14\u001b[39m, fontweight\u001b[38;5;241m=\u001b[39m\u001b[38;5;124m'\u001b[39m\u001b[38;5;124mbold\u001b[39m\u001b[38;5;124m'\u001b[39m)\n",
      "\u001b[0;31mNameError\u001b[0m: name 'data_for_plotting' is not defined"
     ]
    },
    {
     "data": {
      "text/plain": [
       "<Figure size 700x500 with 0 Axes>"
      ]
     },
     "metadata": {},
     "output_type": "display_data"
    }
   ],
   "source": [
    "\n",
    "\n",
    "plt.figure(figsize=(7, 5))\n",
    "sns.histplot(data=data_for_plotting, x='Condition', hue='Pupae?', weights='Proportion', multiple='stack', shrink=.8, edgecolor='black', linewidth=1.5, palette='Oranges', alpha=1)\n",
    "plt.title('Pupae Presence by Fly Condition', fontsize=16, fontweight='bold')\n",
    "plt.xlabel('Condition', fontsize=14, fontweight='bold')\n",
    "plt.ylabel('Proportion', fontsize=14, fontweight='bold')\n",
    "\n",
    "\n",
    "labels= ['Pupa Absent', 'Pupa Present']\n",
    "plt.legend(labels, title='Pupae?', bbox_to_anchor=(1, 1), title_fontsize='10')\n",
    "\n",
    "sns.despine()\n",
    "\n",
    "\n",
    "x1, x2 = 0, 1  \n",
    "y, h, col = data_for_plotting['Proportion'].max() + 0.1, 0.03, 'black'  # You may need to adjust the y value based on your data\n",
    "\n",
    "# Draw the line\n",
    "plt.plot([x1, x1, x2, x2], [y, y+h, y+h, y], lw=1.5, c=col)\n",
    "\n",
    "# Add asterisks for significance\n",
    "plt.text((x1+x2)*.5, y+h, \"***\", ha='center', va='bottom', color=col, fontsize=14)\n",
    "\n",
    "plt.tight_layout()\n",
    "\n",
    "# annotate with the n number for each \n",
    "plt.annotate('Virgin Total: 701\\nNon-Virgin Total: 144', xy=(1.48, 0.1))\n",
    "\n",
    "plt.savefig('/Users/cochral/repos/behavioural-analysis/plots/plug-camera/staging/Proportion_Pupa_virgin_pregnant.png', dpi=300, bbox_inches='tight')\n",
    "\n",
    "plt.show()"
   ]
  },
  {
   "cell_type": "code",
   "execution_count": null,
   "metadata": {},
   "outputs": [],
   "source": [
    "plt.legend(title='Pupae?', loc='upper right')"
   ]
  },
  {
   "cell_type": "code",
   "execution_count": 11,
   "metadata": {},
   "outputs": [
    {
     "data": {
      "text/plain": [
       "34.083333333333336"
      ]
     },
     "execution_count": 11,
     "metadata": {},
     "output_type": "execute_result"
    }
   ],
   "source": [
    "mean_pupa_virgin = df[df['Condition'] == 'Virgin']['Number of Pupae'].mean()\n",
    "\n",
    "mean_pupa_virgin\n",
    "# CHECK .MEAN IFNORE NAN VALUES - CHECK "
   ]
  },
  {
   "cell_type": "code",
   "execution_count": 12,
   "metadata": {},
   "outputs": [
    {
     "data": {
      "text/plain": [
       "nan"
      ]
     },
     "execution_count": 12,
     "metadata": {},
     "output_type": "execute_result"
    }
   ],
   "source": [
    "mean_pupa_preg = df[df['Condition'] == 'Pregnant']['Number of Pupae'].mean()\n",
    "mean_pupa_preg"
   ]
  },
  {
   "cell_type": "code",
   "execution_count": 13,
   "metadata": {},
   "outputs": [
    {
     "data": {
      "text/plain": [
       "nan"
      ]
     },
     "execution_count": 13,
     "metadata": {},
     "output_type": "execute_result"
    }
   ],
   "source": [
    "\n",
    "from scipy.stats import ttest_ind\n",
    "\n",
    "# Load your DataFrame\n",
    "# df = pd.read_csv('your_file.csv')  # Replace with your actual data loading method\n",
    "\n",
    "# Drop NaN values in 'Number of Pupae' column for accurate comparison\n",
    "virgin_pupae = df[df['Condition'] == 'Virgin']['Number of Pupae'].dropna()\n",
    "pregnant_pupae = df[df['Condition'] == 'Pregnant']['Number of Pupae'].dropna()\n",
    "\n",
    "# Perform the two-sample t-test\n",
    "t_stat, p_value = ttest_ind(virgin_pupae, pregnant_pupae)\n",
    "\n",
    "p_value\n"
   ]
  },
  {
   "cell_type": "code",
   "execution_count": 11,
   "metadata": {},
   "outputs": [
    {
     "name": "stdout",
     "output_type": "stream",
     "text": [
      "    Vile Identity Day of Week AM/PM  Number of pregnant flies  \\\n",
      "0    27/02 9.10am     Tuesday    AM                       NaN   \n",
      "1    27/02 9.10am     Tuesday    AM                       NaN   \n",
      "2    27/02 9.10am     Tuesday    AM                       NaN   \n",
      "3    27/02 9.10am     Tuesday    AM                       NaN   \n",
      "4    27/02 9.10am     Tuesday    AM                       NaN   \n",
      "..            ...         ...   ...                       ...   \n",
      "840     12/03 9am    Tuesday     AM                       NaN   \n",
      "841     12/03 9am    Tuesday     AM                       NaN   \n",
      "842     12/03 9am    Tuesday     AM                       NaN   \n",
      "843     12/03 9am    Tuesday     AM                       NaN   \n",
      "844     12/03 9am    Tuesday     AM                       NaN   \n",
      "\n",
      "     Number of Virgins Pupae?  Number of Pupae Condition  \n",
      "0                  1.0      Y             31.0    Virgin  \n",
      "1                  1.0      Y             28.0    Virgin  \n",
      "2                  1.0      Y             47.0    Virgin  \n",
      "3                  1.0      Y             46.0    Virgin  \n",
      "4                  1.0      Y             56.0    Virgin  \n",
      "..                 ...    ...              ...       ...  \n",
      "840                1.0      N              NaN    Virgin  \n",
      "841                1.0      N              NaN    Virgin  \n",
      "842                1.0      N              NaN    Virgin  \n",
      "843                1.0      N              NaN    Virgin  \n",
      "844                1.0      N              NaN    Virgin  \n",
      "\n",
      "[845 rows x 8 columns]\n"
     ]
    }
   ],
   "source": [
    "print(df)"
   ]
  },
  {
   "cell_type": "code",
   "execution_count": 18,
   "metadata": {},
   "outputs": [
    {
     "data": {
      "text/plain": [
       "144"
      ]
     },
     "execution_count": 18,
     "metadata": {},
     "output_type": "execute_result"
    }
   ],
   "source": [
    "total_virgin = len(df[df['Condition'] == 'Virgin'])\n",
    "\n",
    "virgin_pupa = len(df[(df['Condition'] == 'Virgin') & (df['Pupae?'] == 'Y')])\n",
    "\n",
    "total_nonvirgin = len(df[df['Condition'] == 'Non-Virgin'])\n",
    "\n",
    "nonvirgin_pupa = len(df[(df['Condition'] == 'Non-Virgin') & (df['Pupae?'] == 'Y')])\n",
    "\n",
    "nonvirgin_pupa\n",
    "\n"
   ]
  },
  {
   "cell_type": "code",
   "execution_count": 28,
   "metadata": {},
   "outputs": [
    {
     "data": {
      "image/png": "[encoded data removed]",
      "text/plain": [
       "<Figure size 640x480 with 1 Axes>"
      ]
     },
     "metadata": {},
     "output_type": "display_data"
    }
   ],
   "source": [
    "df = pd.read_excel('/Volumes/lab-windingm/home/users/cochral/plug_camera/staging/virgins?/contigency-table.xlsx')\n",
    "\n",
    "# Data from the table you provided\n",
    "data = {'Condition': ['Virgin Flies', 'Non Virgin Flies'],\n",
    "        'Total': [701, 144],\n",
    "        'Virgins': [689, 0]}\n",
    "\n",
    "df = pd.DataFrame(data)\n",
    "\n",
    "# Calculate the proportion of Virgins and Non-Virgins\n",
    "df['Proportion Virgins'] = df['Virgins'] / df['Total']\n",
    "df['Proportion Non-Virgins'] = (df['Total'] - df['Virgins']) / df['Total']\n",
    "\n",
    "# Create a stacked bar plot using Matplotlib\n",
    "fig, ax = plt.subplots()\n",
    "\n",
    "# Bar positions\n",
    "bar_width = 0.5\n",
    "bar_positions = range(len(df['Condition']))\n",
    "\n",
    "# Plot Non-Virgins first\n",
    "ax.bar(bar_positions, df['Proportion Non-Virgins'], label='Proportion Non-Virgins', color='orange', width=bar_width)\n",
    "\n",
    "# Stack Virgins on top of Non-Virgins\n",
    "ax.bar(bar_positions, df['Proportion Virgins'], bottom=df['Proportion Non-Virgins'], label='Proportion Virgins', color='lightblue', width=bar_width)\n",
    "\n",
    "# Add labels, title, and legend\n",
    "ax.set_xticks(bar_positions)\n",
    "ax.set_xticklabels(df['Condition'])\n",
    "ax.set_ylabel('Proportion of Virgins to Non-Virgins')\n",
    "\n",
    "ax.set_title('Condition')\n",
    "ax.legend(loc='upper left', bbox_to_anchor=(1, 1))\n",
    "\n",
    "# ax.legend(loc='center left', bbox_to_anchor=(1, 0.5), frameon=False)\n",
    "\n",
    "# Adjust layout to make room for the legend\n",
    "plt.tight_layout(rect=[0, 0, 0.85, 1])  # Adds padding on the right for the legend\n",
    "# Show the plot\n",
    "plt.show()"
   ]
  },
  {
   "cell_type": "code",
   "execution_count": 33,
   "metadata": {},
   "outputs": [
    {
     "data": {
      "text/html": [
       "<div>\n",
       "<style scoped>\n",
       "    .dataframe tbody tr th:only-of-type {\n",
       "        vertical-align: middle;\n",
       "    }\n",
       "\n",
       "    .dataframe tbody tr th {\n",
       "        vertical-align: top;\n",
       "    }\n",
       "\n",
       "    .dataframe thead th {\n",
       "        text-align: right;\n",
       "    }\n",
       "</style>\n",
       "<table border=\"1\" class=\"dataframe\">\n",
       "  <thead>\n",
       "    <tr style=\"text-align: right;\">\n",
       "      <th></th>\n",
       "      <th>Vile Identity</th>\n",
       "      <th>Day of Week</th>\n",
       "      <th>AM/PM</th>\n",
       "      <th>Number of pregnant flies</th>\n",
       "      <th>Number of Virgins</th>\n",
       "      <th>Pupae?</th>\n",
       "      <th>Number of Pupae</th>\n",
       "      <th>Condition</th>\n",
       "    </tr>\n",
       "  </thead>\n",
       "  <tbody>\n",
       "    <tr>\n",
       "      <th>0</th>\n",
       "      <td>27/02 9.10am</td>\n",
       "      <td>Tuesday</td>\n",
       "      <td>AM</td>\n",
       "      <td>NaN</td>\n",
       "      <td>1.0</td>\n",
       "      <td>Y</td>\n",
       "      <td>31.0</td>\n",
       "      <td>Virgin</td>\n",
       "    </tr>\n",
       "    <tr>\n",
       "      <th>1</th>\n",
       "      <td>27/02 9.10am</td>\n",
       "      <td>Tuesday</td>\n",
       "      <td>AM</td>\n",
       "      <td>NaN</td>\n",
       "      <td>1.0</td>\n",
       "      <td>Y</td>\n",
       "      <td>28.0</td>\n",
       "      <td>Virgin</td>\n",
       "    </tr>\n",
       "    <tr>\n",
       "      <th>2</th>\n",
       "      <td>27/02 9.10am</td>\n",
       "      <td>Tuesday</td>\n",
       "      <td>AM</td>\n",
       "      <td>NaN</td>\n",
       "      <td>1.0</td>\n",
       "      <td>Y</td>\n",
       "      <td>47.0</td>\n",
       "      <td>Virgin</td>\n",
       "    </tr>\n",
       "    <tr>\n",
       "      <th>3</th>\n",
       "      <td>27/02 9.10am</td>\n",
       "      <td>Tuesday</td>\n",
       "      <td>AM</td>\n",
       "      <td>NaN</td>\n",
       "      <td>1.0</td>\n",
       "      <td>Y</td>\n",
       "      <td>46.0</td>\n",
       "      <td>Virgin</td>\n",
       "    </tr>\n",
       "    <tr>\n",
       "      <th>4</th>\n",
       "      <td>27/02 9.10am</td>\n",
       "      <td>Tuesday</td>\n",
       "      <td>AM</td>\n",
       "      <td>NaN</td>\n",
       "      <td>1.0</td>\n",
       "      <td>Y</td>\n",
       "      <td>56.0</td>\n",
       "      <td>Virgin</td>\n",
       "    </tr>\n",
       "    <tr>\n",
       "      <th>...</th>\n",
       "      <td>...</td>\n",
       "      <td>...</td>\n",
       "      <td>...</td>\n",
       "      <td>...</td>\n",
       "      <td>...</td>\n",
       "      <td>...</td>\n",
       "      <td>...</td>\n",
       "      <td>...</td>\n",
       "    </tr>\n",
       "    <tr>\n",
       "      <th>840</th>\n",
       "      <td>12/03 9am</td>\n",
       "      <td>Tuesday</td>\n",
       "      <td>AM</td>\n",
       "      <td>NaN</td>\n",
       "      <td>1.0</td>\n",
       "      <td>N</td>\n",
       "      <td>NaN</td>\n",
       "      <td>Virgin</td>\n",
       "    </tr>\n",
       "    <tr>\n",
       "      <th>841</th>\n",
       "      <td>12/03 9am</td>\n",
       "      <td>Tuesday</td>\n",
       "      <td>AM</td>\n",
       "      <td>NaN</td>\n",
       "      <td>1.0</td>\n",
       "      <td>N</td>\n",
       "      <td>NaN</td>\n",
       "      <td>Virgin</td>\n",
       "    </tr>\n",
       "    <tr>\n",
       "      <th>842</th>\n",
       "      <td>12/03 9am</td>\n",
       "      <td>Tuesday</td>\n",
       "      <td>AM</td>\n",
       "      <td>NaN</td>\n",
       "      <td>1.0</td>\n",
       "      <td>N</td>\n",
       "      <td>NaN</td>\n",
       "      <td>Virgin</td>\n",
       "    </tr>\n",
       "    <tr>\n",
       "      <th>843</th>\n",
       "      <td>12/03 9am</td>\n",
       "      <td>Tuesday</td>\n",
       "      <td>AM</td>\n",
       "      <td>NaN</td>\n",
       "      <td>1.0</td>\n",
       "      <td>N</td>\n",
       "      <td>NaN</td>\n",
       "      <td>Virgin</td>\n",
       "    </tr>\n",
       "    <tr>\n",
       "      <th>844</th>\n",
       "      <td>12/03 9am</td>\n",
       "      <td>Tuesday</td>\n",
       "      <td>AM</td>\n",
       "      <td>NaN</td>\n",
       "      <td>1.0</td>\n",
       "      <td>N</td>\n",
       "      <td>NaN</td>\n",
       "      <td>Virgin</td>\n",
       "    </tr>\n",
       "  </tbody>\n",
       "</table>\n",
       "<p>845 rows × 8 columns</p>\n",
       "</div>"
      ],
      "text/plain": [
       "    Vile Identity Day of Week AM/PM  Number of pregnant flies  \\\n",
       "0    27/02 9.10am     Tuesday    AM                       NaN   \n",
       "1    27/02 9.10am     Tuesday    AM                       NaN   \n",
       "2    27/02 9.10am     Tuesday    AM                       NaN   \n",
       "3    27/02 9.10am     Tuesday    AM                       NaN   \n",
       "4    27/02 9.10am     Tuesday    AM                       NaN   \n",
       "..            ...         ...   ...                       ...   \n",
       "840     12/03 9am    Tuesday     AM                       NaN   \n",
       "841     12/03 9am    Tuesday     AM                       NaN   \n",
       "842     12/03 9am    Tuesday     AM                       NaN   \n",
       "843     12/03 9am    Tuesday     AM                       NaN   \n",
       "844     12/03 9am    Tuesday     AM                       NaN   \n",
       "\n",
       "     Number of Virgins Pupae?  Number of Pupae Condition  \n",
       "0                  1.0      Y             31.0    Virgin  \n",
       "1                  1.0      Y             28.0    Virgin  \n",
       "2                  1.0      Y             47.0    Virgin  \n",
       "3                  1.0      Y             46.0    Virgin  \n",
       "4                  1.0      Y             56.0    Virgin  \n",
       "..                 ...    ...              ...       ...  \n",
       "840                1.0      N              NaN    Virgin  \n",
       "841                1.0      N              NaN    Virgin  \n",
       "842                1.0      N              NaN    Virgin  \n",
       "843                1.0      N              NaN    Virgin  \n",
       "844                1.0      N              NaN    Virgin  \n",
       "\n",
       "[845 rows x 8 columns]"
      ]
     },
     "execution_count": 33,
     "metadata": {},
     "output_type": "execute_result"
    }
   ],
   "source": [
    "df = pd.read_excel('/Volumes/lab-windingm/home/users/cochral/plug_camera/staging/virgins?/virgincollection.xlsx', 'virgin')\n",
    "\n",
    "df"
   ]
  },
  {
   "cell_type": "code",
   "execution_count": 34,
   "metadata": {},
   "outputs": [
    {
     "name": "stdout",
     "output_type": "stream",
     "text": [
      "Pupae?                N     Y\n",
      "Condition  AM/PM             \n",
      "Non-Virgin AM       NaN  99.0\n",
      "Virgin     AM     457.0  11.0\n",
      "           PM     232.0   1.0\n"
     ]
    }
   ],
   "source": [
    "pupae_counts = df.groupby(['Condition', 'AM/PM'])['Pupae?'].value_counts().unstack()\n",
    "\n",
    "# Display the results\n",
    "print(pupae_counts)\n",
    "\n"
   ]
  }
 ],
 "metadata": {
  "kernelspec": {
   "display_name": "maggots",
   "language": "python",
   "name": "python3"
  },
  "language_info": {
   "codemirror_mode": {
    "name": "ipython",
    "version": 3
   },
   "file_extension": ".py",
   "mimetype": "text/x-python",
   "name": "python",
   "nbconvert_exporter": "python",
   "pygments_lexer": "ipython3",
   "version": "3.8.18"
  }
 },
 "nbformat": 4,
 "nbformat_minor": 2
}
