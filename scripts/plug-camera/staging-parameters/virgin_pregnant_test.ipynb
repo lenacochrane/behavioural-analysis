{
 "cells": [
  {
   "cell_type": "code",
   "execution_count": 1,
   "metadata": {},
   "outputs": [],
   "source": [
    "import pandas as pd \n",
    "import numpy as np\n",
    "import matplotlib as plt\n",
    "import matplotlib.pyplot as plt\n",
    "import seaborn as sns\n",
    "import os\n",
    "from scipy.stats import chi2_contingency"
   ]
  },
  {
   "cell_type": "code",
   "execution_count": 4,
   "metadata": {},
   "outputs": [],
   "source": [
    "df = pd.read_excel('/Volumes/lab-windingm/home/users/cochral/plug_camera/staging/virgins?/virgincollection.xlsx', 'virgin')"
   ]
  },
  {
   "cell_type": "code",
   "execution_count": 5,
   "metadata": {},
   "outputs": [],
   "source": [
    "\n",
    "\n",
    "# To apply a function to each row and create a new column based on row data\n",
    "df['Condition'] = df.apply(lambda row: 'Pregnant' if row['Number of pregnant flies'] > 0 else 'Virgin', axis=1)\n",
    "                           \n"
   ]
  },
  {
   "cell_type": "code",
   "execution_count": 6,
   "metadata": {},
   "outputs": [
    {
     "data": {
      "text/html": [
       "<div>\n",
       "<style scoped>\n",
       "    .dataframe tbody tr th:only-of-type {\n",
       "        vertical-align: middle;\n",
       "    }\n",
       "\n",
       "    .dataframe tbody tr th {\n",
       "        vertical-align: top;\n",
       "    }\n",
       "\n",
       "    .dataframe thead th {\n",
       "        text-align: right;\n",
       "    }\n",
       "</style>\n",
       "<table border=\"1\" class=\"dataframe\">\n",
       "  <thead>\n",
       "    <tr style=\"text-align: right;\">\n",
       "      <th>Pupae?</th>\n",
       "      <th>N</th>\n",
       "      <th>Y</th>\n",
       "    </tr>\n",
       "    <tr>\n",
       "      <th>Condition</th>\n",
       "      <th></th>\n",
       "      <th></th>\n",
       "    </tr>\n",
       "  </thead>\n",
       "  <tbody>\n",
       "    <tr>\n",
       "      <th>Pregnant</th>\n",
       "      <td>0</td>\n",
       "      <td>144</td>\n",
       "    </tr>\n",
       "    <tr>\n",
       "      <th>Virgin</th>\n",
       "      <td>606</td>\n",
       "      <td>11</td>\n",
       "    </tr>\n",
       "  </tbody>\n",
       "</table>\n",
       "</div>"
      ],
      "text/plain": [
       "Pupae?       N    Y\n",
       "Condition          \n",
       "Pregnant     0  144\n",
       "Virgin     606   11"
      ]
     },
     "execution_count": 6,
     "metadata": {},
     "output_type": "execute_result"
    }
   ],
   "source": [
    "\n",
    "\n",
    "# create contingency table\n",
    "contingency_table = pd.crosstab(df['Condition'], df['Pupae?'])\n",
    "\n",
    "contingency_table"
   ]
  },
  {
   "cell_type": "code",
   "execution_count": 7,
   "metadata": {},
   "outputs": [
    {
     "data": {
      "text/plain": [
       "1.0228236867842552e-151"
      ]
     },
     "execution_count": 7,
     "metadata": {},
     "output_type": "execute_result"
    }
   ],
   "source": [
    "chi2, pval, dof, expected = chi2_contingency(contingency_table)\n",
    "\n",
    "pval"
   ]
  },
  {
   "cell_type": "code",
   "execution_count": 8,
   "metadata": {},
   "outputs": [
    {
     "data": {
      "text/html": [
       "<div>\n",
       "<style scoped>\n",
       "    .dataframe tbody tr th:only-of-type {\n",
       "        vertical-align: middle;\n",
       "    }\n",
       "\n",
       "    .dataframe tbody tr th {\n",
       "        vertical-align: top;\n",
       "    }\n",
       "\n",
       "    .dataframe thead th {\n",
       "        text-align: right;\n",
       "    }\n",
       "</style>\n",
       "<table border=\"1\" class=\"dataframe\">\n",
       "  <thead>\n",
       "    <tr style=\"text-align: right;\">\n",
       "      <th></th>\n",
       "      <th>Condition</th>\n",
       "      <th>Pupae?</th>\n",
       "      <th>value</th>\n",
       "    </tr>\n",
       "  </thead>\n",
       "  <tbody>\n",
       "    <tr>\n",
       "      <th>0</th>\n",
       "      <td>Pregnant</td>\n",
       "      <td>N</td>\n",
       "      <td>0</td>\n",
       "    </tr>\n",
       "    <tr>\n",
       "      <th>1</th>\n",
       "      <td>Virgin</td>\n",
       "      <td>N</td>\n",
       "      <td>606</td>\n",
       "    </tr>\n",
       "    <tr>\n",
       "      <th>2</th>\n",
       "      <td>Pregnant</td>\n",
       "      <td>Y</td>\n",
       "      <td>144</td>\n",
       "    </tr>\n",
       "    <tr>\n",
       "      <th>3</th>\n",
       "      <td>Virgin</td>\n",
       "      <td>Y</td>\n",
       "      <td>11</td>\n",
       "    </tr>\n",
       "  </tbody>\n",
       "</table>\n",
       "</div>"
      ],
      "text/plain": [
       "  Condition Pupae?  value\n",
       "0  Pregnant      N      0\n",
       "1    Virgin      N    606\n",
       "2  Pregnant      Y    144\n",
       "3    Virgin      Y     11"
      ]
     },
     "execution_count": 8,
     "metadata": {},
     "output_type": "execute_result"
    }
   ],
   "source": [
    "# need it in long format for seaborn \n",
    "\n",
    "contingency_table.reset_index().melt(id_vars='Condition')"
   ]
  },
  {
   "cell_type": "code",
   "execution_count": 9,
   "metadata": {},
   "outputs": [
    {
     "data": {
      "image/png": "[encoded data removed]",
      "text/plain": [
       "<Figure size 640x480 with 1 Axes>"
      ]
     },
     "metadata": {},
     "output_type": "display_data"
    }
   ],
   "source": [
    "# converting the contingency table into 'long' format using melt, which is necessary for seaborn's barplot function\n",
    "\n",
    "sns.barplot(data=contingency_table.reset_index().melt(id_vars='Condition'), x='Condition', y='value', hue='Pupae?', palette='Greens_d')\n",
    "plt.title('Pupae Presence by Fly Condition')\n",
    "plt.xlabel('Condition')\n",
    "plt.ylabel('Count of Pupae?')\n",
    "plt.show()"
   ]
  },
  {
   "cell_type": "code",
   "execution_count": 10,
   "metadata": {},
   "outputs": [
    {
     "data": {
      "image/png": "[encoded data removed]",
      "text/plain": [
       "<Figure size 600x500 with 1 Axes>"
      ]
     },
     "metadata": {},
     "output_type": "display_data"
    }
   ],
   "source": [
    "# In this script, we're using sns.histplot which is a high-level seaborn function for histogram plots \n",
    "# and can stack bars if given categorical data. \n",
    "# The parameter multiple='stack' tells seaborn to stack the bars rather than showing them side by side\n",
    "\n",
    "\n",
    "plt.figure(figsize=(6, 5))\n",
    "# Set the aesthetic style of the plots\n",
    "sns.set_style(\"whitegrid\")\n",
    "\n",
    "# Create the stacked bar chart\n",
    "\n",
    "sns.histplot(data=df, x='Condition', hue='Pupae?', multiple='stack', shrink=.8, edgecolor='black', palette='Greens', alpha=1)\n",
    "\n",
    "# Add the title and labels\n",
    "plt.title('Pupae Presence by Fly Condition', fontsize=16, fontweight='bold')\n",
    "plt.xlabel('Condition', fontsize=14, fontweight='bold')\n",
    "plt.ylabel('Pupa Count', fontsize=14, fontweight='bold')\n",
    "\n",
    "# Remove the top and right spines for a cleaner look\n",
    "sns.despine()\n",
    "\n",
    "# Show the plot\n",
    "plt.tight_layout()\n",
    "\n",
    "plt.savefig('/Users/cochral/repos/behavioural-analysis/plots/plug-camera/staging/Pupa_virgin_pregnant.png', dpi=300, bbox_inches='tight')\n",
    "plt.show()\n",
    "\n",
    "\n",
    "# TOTAL SUM VIRGIN / DIVIDE THESE BY THAY BETWEEN 0 AND 1 \n",
    "# CALL IT NON VIRGIN \n"
   ]
  },
  {
   "cell_type": "code",
   "execution_count": null,
   "metadata": {},
   "outputs": [
    {
     "data": {
      "text/plain": [
       "34.90909090909091"
      ]
     },
     "execution_count": 62,
     "metadata": {},
     "output_type": "execute_result"
    }
   ],
   "source": [
    "mean_pupa_virgin = df[df['Condition'] == 'Virgin']['Number of Pupae'].mean()\n",
    "\n",
    "mean_pupa_virgin\n",
    "# CHECK .MEAN IFNORE NAN VALUES - CHECK "
   ]
  },
  {
   "cell_type": "code",
   "execution_count": null,
   "metadata": {},
   "outputs": [
    {
     "data": {
      "text/plain": [
       "52.888888888888886"
      ]
     },
     "execution_count": 60,
     "metadata": {},
     "output_type": "execute_result"
    }
   ],
   "source": [
    "mean_pupa_preg = df[df['Condition'] == 'Pregnant']['Number of Pupae'].mean()\n",
    "mean_pupa_preg"
   ]
  },
  {
   "cell_type": "code",
   "execution_count": null,
   "metadata": {},
   "outputs": [
    {
     "data": {
      "text/plain": [
       "0.03156135684110732"
      ]
     },
     "execution_count": 64,
     "metadata": {},
     "output_type": "execute_result"
    }
   ],
   "source": [
    "\n",
    "from scipy.stats import ttest_ind\n",
    "\n",
    "# Load your DataFrame\n",
    "# df = pd.read_csv('your_file.csv')  # Replace with your actual data loading method\n",
    "\n",
    "# Drop NaN values in 'Number of Pupae' column for accurate comparison\n",
    "virgin_pupae = df[df['Condition'] == 'Virgin']['Number of Pupae'].dropna()\n",
    "pregnant_pupae = df[df['Condition'] == 'Pregnant']['Number of Pupae'].dropna()\n",
    "\n",
    "# Perform the two-sample t-test\n",
    "t_stat, p_value = ttest_ind(virgin_pupae, pregnant_pupae)\n",
    "\n",
    "p_value\n"
   ]
  }
 ],
 "metadata": {
  "kernelspec": {
   "display_name": "maggots",
   "language": "python",
   "name": "python3"
  },
  "language_info": {
   "codemirror_mode": {
    "name": "ipython",
    "version": 3
   },
   "file_extension": ".py",
   "mimetype": "text/x-python",
   "name": "python",
   "nbconvert_exporter": "python",
   "pygments_lexer": "ipython3",
   "version": "3.8.18"
  }
 },
 "nbformat": 4,
 "nbformat_minor": 2
}
