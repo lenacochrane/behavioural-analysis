{
 "cells": [
  {
   "cell_type": "code",
   "execution_count": null,
   "metadata": {},
   "outputs": [],
   "source": [
    "import os\n",
    "import pandas as pd\n",
    "import numpy as np\n",
    "import seaborn as sns\n",
    "import matplotlib.pyplot as plt"
   ]
  },
  {
   "cell_type": "markdown",
   "metadata": {},
   "source": [
    "### CALCULATING ANGLES BETWEEN VECTORS\n",
    "\n",
    "θ = cos-1  (A⋅B / ||A||||B|| )\n"
   ]
  },
  {
   "cell_type": "code",
   "execution_count": null,
   "metadata": {},
   "outputs": [],
   "source": [
    "# FUNCTION TO CALCULATE THETA \n",
    "\n",
    "def angle(vector_A, vector_B):\n",
    "\n",
    "    # convert to an array for mathmatical ease \n",
    "    A = np.array(vector_A)\n",
    "    b = np.array(vector_B)\n",
    "\n",
    "    # calculate the dot product\n",
    "    dot_product = np.dot(A, B)\n",
    "\n",
    "    # calculate the magnitude of vector (length / norm of vector)\n",
    "    magnitude_A = np.linalg.norm(vector_A)\n",
    "    magnitude_B = np.linalg.norm(vector_B)\n",
    "\n",
    "    # cosθ\n",
    "    cos_theta = dot_product / (magnitude_A * magnitude_B)\n",
    "\n",
    "    # θ in radians\n",
    "    theta_radians = np.arccos(cos_theta)\n",
    "\n",
    "    # θ in degrees\n",
    "    theta_degrees = np.degrees(theta_radians)\n",
    "\n",
    "    return theta_degrees\n"
   ]
  },
  {
   "cell_type": "code",
   "execution_count": null,
   "metadata": {},
   "outputs": [],
   "source": [
    "# average orienation over time - ask dan about this ltr "
   ]
  }
 ],
 "metadata": {
  "language_info": {
   "name": "python"
  }
 },
 "nbformat": 4,
 "nbformat_minor": 2
}
